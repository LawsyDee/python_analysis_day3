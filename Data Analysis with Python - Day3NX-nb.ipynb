{
 "cells": [
  {
   "cell_type": "markdown",
   "metadata": {
    "collapsed": true,
    "slideshow": {
     "slide_type": "slide"
    }
   },
   "source": [
    "# Day 3\n",
    "\n",
    "## NetworkX: Graphs and Networks"
   ]
  },
  {
   "cell_type": "markdown",
   "metadata": {
    "slideshow": {
     "slide_type": "slide"
    }
   },
   "source": [
    "# Agenda\n",
    "\n",
    "* What is a Graph?\n",
    "* What is NetworkX?\n",
    "* Creating a graph\n",
    "* What to use as nodes and edges\n",
    "* Accessing edges\n",
    "* Adding attributes to graphs, nodes, and edges\n",
    "    * Graph attributes\n",
    "    * Node attributes\n",
    "    * Edge Attributes\n",
    "* Directed graphs\n",
    "* Graph generators and graph operations\n",
    "* Analyzing graphs\n",
    "* Drawing graphs\n",
    "\n"
   ]
  },
  {
   "cell_type": "markdown",
   "metadata": {
    "slideshow": {
     "slide_type": "slide"
    }
   },
   "source": [
    "# What is a Graph?\n",
    "\n",
    "* By definition, a Graph is a collection of nodes (vertices) along with identified pairs of nodes (called edges, links, etc). \n",
    "* A set of entities as nodes and the relationships that connect (link) them\n",
    "* Useful for modeling real-world scenarios\n"
   ]
  },
  {
   "cell_type": "code",
   "execution_count": null,
   "metadata": {
    "slideshow": {
     "slide_type": "fragment"
    }
   },
   "outputs": [],
   "source": [
    "%matplotlib inline\n",
    "#!/usr/bin/env python\n",
    "\"\"\"\n",
    "An example using Graph as a weighted network.\n",
    "\"\"\"\n",
    "__author__ = \"\"\"Aric Hagberg (hagberg@lanl.gov)\"\"\"\n",
    "try:\n",
    "    import matplotlib.pyplot as plt\n",
    "except:\n",
    "    raise\n",
    "    \n",
    "import networkx as nx\n",
    "\n",
    "G=nx.Graph()\n",
    "\n",
    "G.add_edge('a','b',weight=0.6)\n",
    "G.add_edge('a','c',weight=0.2)\n",
    "G.add_edge('c','d',weight=0.1)\n",
    "G.add_edge('c','e',weight=0.7)\n",
    "G.add_edge('c','f',weight=0.9)\n",
    "G.add_edge('a','d',weight=0.3)\n",
    "\n",
    "elarge=[(u,v) for (u,v,d) in G.edges(data=True) if d['weight'] >0.5]\n",
    "esmall=[(u,v) for (u,v,d) in G.edges(data=True) if d['weight'] <=0.5]\n",
    "\n",
    "pos=nx.spring_layout(G) # positions for all nodes\n",
    "\n",
    "# nodes\n",
    "nx.draw_networkx_nodes(G,pos,node_size=700)\n",
    "\n",
    "# edges\n",
    "nx.draw_networkx_edges(G,pos,edgelist=elarge,\n",
    "                    width=6)\n",
    "nx.draw_networkx_edges(G,pos,edgelist=esmall,\n",
    "                    width=6,alpha=0.5,edge_color='b',style='dashed')\n",
    "\n",
    "# labels\n",
    "nx.draw_networkx_labels(G,pos,font_size=20,font_family='sans-serif')\n",
    "\n",
    "plt.axis('off')\n",
    "plt.savefig(\"weighted_graph.png\") # save as png\n",
    "plt.show() # display\n"
   ]
  },
  {
   "cell_type": "markdown",
   "metadata": {
    "slideshow": {
     "slide_type": "slide"
    }
   },
   "source": [
    "# What is NetworkX?\n",
    "\n",
    "* A graph compute engine that enables graph computational algorithms to be run against large datasets\n",
    "* A pure Python package; requires Python 2.6, 2.7, 3.2, or later\n",
    "* Source:\n",
    "    * http://pypi.python.org/pypi/networkx\n",
    "    * https://github.com/networkx/networkx/\n",
    "    * Included in Anaconda\n",
    "* Docs:\n",
    "https://networkx.readthedocs.io/en/stable/"
   ]
  },
  {
   "cell_type": "markdown",
   "metadata": {
    "slideshow": {
     "slide_type": "slide"
    }
   },
   "source": [
    "### Basic Imports"
   ]
  },
  {
   "cell_type": "code",
   "execution_count": null,
   "metadata": {
    "collapsed": true,
    "slideshow": {
     "slide_type": "fragment"
    }
   },
   "outputs": [],
   "source": [
    "# networkx module\n",
    "import networkx as nx\n",
    "\n",
    "# NetworkX is not primarily a graph drawing package.  We'll use Matplotlib's plot interface to \n",
    "# visualize graphs throughout this course.\n",
    "\n",
    "# import matplotlib module\n",
    "import matplotlib.pyplot as plt\n"
   ]
  },
  {
   "cell_type": "markdown",
   "metadata": {
    "slideshow": {
     "slide_type": "slide"
    }
   },
   "source": [
    "### Types of Graphs Available in NetworkX\n",
    "\n",
    "The first choice to be made when using NetworkX is what type of graph object to use. \n",
    "\n",
    "NetworkX graph objects come in different flavors depending on two main properties of the network:\n",
    "\n",
    "* Directed: Are the edges directed? Does the order of the edge pairs (u,v) matter? \n",
    "* Multi-edges: Are multiple edges allowed between each pair of nodes?\n",
    "\n",
    "The following basic graph types are provided as Python classes:\n",
    "\n",
    "<table border=\"1\"><colgroup> <col width=\"44%\" /> <col width=\"56%\" /> </colgroup>\n",
    "<thead>\n",
    "<tr><th>Graph Type</th><th>NetworkX Class</th></tr>\n",
    "</thead>\n",
    "<tbody>\n",
    "<tr>\n",
    "<td>Undirected Simple</td>\n",
    "<td>Graph</td>\n",
    "</tr>\n",
    "<tr>\n",
    "<td>Directed Simple</td>\n",
    "<td>DiGraph</td>\n",
    "</tr>\n",
    "<tr>\n",
    "<td>With Self-loops</td>\n",
    "<td>Graph, DiGraph</td>\n",
    "</tr>\n",
    "<tr>\n",
    "<td>With Parallel edges</td>\n",
    "<td>MultiGraph, MultiDiGraph</td>\n",
    "</tr>\n",
    "</tbody>\n",
    "</table>"
   ]
  },
  {
   "cell_type": "code",
   "execution_count": null,
   "metadata": {
    "collapsed": true,
    "slideshow": {
     "slide_type": "-"
    }
   },
   "outputs": [],
   "source": [
    "# Generate an empty Undirected Graph object\n",
    "G1=nx.Graph()\n",
    "\n",
    "# Generate an empty Directed Graph object\n",
    "G2=nx.DiGraph()\n",
    "\n",
    "# Generate an empty Multiple Undirected Edge Graph object\n",
    "G3=nx.MultiGraph()\n",
    "\n",
    "# Generate an empty Multiple Directed Edge Graph object\n",
    "G4=nx.MultiDiGraph()"
   ]
  },
  {
   "cell_type": "markdown",
   "metadata": {
    "slideshow": {
     "slide_type": "slide"
    }
   },
   "source": [
    "### Nodes and Edges\n",
    "\n",
    "The next choice you have to make when specifying a graph is what kinds of nodes and edges to use.\n",
    "\n",
    "A graph (network) is a collection of nodes together with a collection of edges that are pairs of nodes. Attributes are often associated with nodes and/or edges. \n",
    "\n",
    "A node can be any hashable object (except None), and an edge can be associated with any object x using G.add_edge(n1,n2,object=x).\n",
    "\n",
    "NetworkX graph objects can be created in one of three ways:\n",
    "\n",
    "* [Graph generators](https://networkx.github.io/documentation/networkx-1.10/reference/generators.html) – standard algorithms to create network topologies.\n",
    "* Importing data from pre-existing (usually file) sources.\n",
    "* Adding edges and nodes explicitly.\n",
    "\n"
   ]
  },
  {
   "cell_type": "markdown",
   "metadata": {
    "slideshow": {
     "slide_type": "slide"
    }
   },
   "source": [
    "### Helpful graph functions:\n",
    "\n",
    "* Add nodes and edges:\n",
    "Graph.add_node(), Graph.add_nodes_from(), Graph.add_edge(), Graph.add_edges_from()\n",
    "\n",
    "* Remove nodes and edges:\n",
    "Graph.remove_node(), Graph.remove_nodes_from(), Graph.remove_edge() and Graph.remove_edges_from()\n",
    "\n",
    "* Completely remove all nodes and edges:\n",
    "Graph.clear()\n",
    "\n",
    "* Examine the nodes and edges:\n",
    "Graph.number_of_nodes(), Graph.number_of_edges(), Graph.nodes(), Graph.edges(), Graph.neighbors()\n",
    "\n",
    "\n"
   ]
  },
  {
   "cell_type": "code",
   "execution_count": null,
   "metadata": {
    "collapsed": true,
    "slideshow": {
     "slide_type": "slide"
    }
   },
   "outputs": [],
   "source": [
    "# Example to show adding nodes to basic graph\n",
    "\n",
    "import networkx as nx\n",
    "import matplotlib.pyplot as plt\n",
    "\n",
    "# Generate an empty Undirected Graph object\n",
    "G=nx.Graph()\n",
    "\n",
    "# add a single node\n",
    "G.add_node(\"Alice\")"
   ]
  },
  {
   "cell_type": "code",
   "execution_count": null,
   "metadata": {
    "slideshow": {
     "slide_type": "fragment"
    }
   },
   "outputs": [],
   "source": [
    "# display the graph\n",
    "pos=nx.spring_layout(G) # positions for all nodes\n",
    "nx.draw_networkx_nodes(G,pos,node_size=800)\n",
    "nx.draw_networkx_labels(G,pos)\n",
    "plt.axis('off')\n",
    "plt.show()"
   ]
  },
  {
   "cell_type": "code",
   "execution_count": null,
   "metadata": {
    "slideshow": {
     "slide_type": "slide"
    }
   },
   "outputs": [],
   "source": [
    "# add a list of nodes\n",
    "G.add_nodes_from([\"Bob\",\"Carla\"])"
   ]
  },
  {
   "cell_type": "code",
   "execution_count": null,
   "metadata": {
    "slideshow": {
     "slide_type": "fragment"
    }
   },
   "outputs": [],
   "source": [
    "# display the graph\n",
    "pos=nx.spring_layout(G) # positions for all nodes\n",
    "nx.draw_networkx_nodes(G,pos,node_size=800)\n",
    "nx.draw_networkx_labels(G,pos)\n",
    "plt.axis('off')\n",
    "plt.show()"
   ]
  },
  {
   "cell_type": "markdown",
   "metadata": {
    "slideshow": {
     "slide_type": "slide"
    }
   },
   "source": [
    "### Graph, Node, and Edge Attributes\n",
    "\n",
    "node attribute:\n",
    "Nodes can have arbitrary Python objects assigned as attributes by using keyword/value pairs when adding a node or assigning to the G.node[n] attribute dictionary for the specified node n.\n",
    "\n",
    "edge attribute:\n",
    "Edges can have arbitrary Python objects assigned as attributes by using keyword/value pairs when adding an edge assigning to the G.edge[u][v] attribute dictionary for the specified edge u-v.\n"
   ]
  },
  {
   "cell_type": "code",
   "execution_count": null,
   "metadata": {
    "slideshow": {
     "slide_type": "slide"
    }
   },
   "outputs": [],
   "source": [
    "## Adding Attributes to an entire graph\n",
    "\n",
    "# assign graph attributes when creating a graph\n",
    "G = nx.Graph(people=\"Students\")\n",
    "print(G.graph)\n",
    "\n",
    "# or, assign graph attributes after creating the graph\n",
    "G.graph['people']='Teachers'\n",
    "print(G.graph)\n"
   ]
  },
  {
   "cell_type": "markdown",
   "metadata": {
    "slideshow": {
     "slide_type": "slide"
    }
   },
   "source": [
    "## Adding attributes to nodes"
   ]
  },
  {
   "cell_type": "code",
   "execution_count": null,
   "metadata": {
    "slideshow": {
     "slide_type": "skip"
    }
   },
   "outputs": [],
   "source": [
    "G = nx.Graph()\n",
    "#add nodes one at a time - specifying any attributes\n",
    "G.add_node(1, fname='Bill')\n",
    "\n",
    "#add several nodes at once from a list, use dictionaries to specify\n",
    "#attributes\n",
    "G.add_nodes_from([(2,dict(fname='Ross',lname='Topel')),\n",
    "                  (3,{'fname':'Martin','lname':'Juarez'}),\n",
    "                  (4,dict(fname='Jarrett',lname='Kotrla'))])\n",
    "\n",
    "#you can add attributes after creating a node, access like you would\n",
    "#a dictionary\n",
    "G.node[1]['lname'] = 'Sabia'"
   ]
  },
  {
   "cell_type": "code",
   "execution_count": null,
   "metadata": {},
   "outputs": [],
   "source": [
    "#add edges one at a time using add_edge()\n",
    "G.add_edge(1,4)\n",
    "G.add_edge(2,4)\n",
    "\n",
    "#add several nodes at once using a list of tuples\n",
    "G.add_edges_from([(1,2),\n",
    "                  (2,3),\n",
    "                  (3,4)])"
   ]
  },
  {
   "cell_type": "code",
   "execution_count": null,
   "metadata": {
    "slideshow": {
     "slide_type": "slide"
    }
   },
   "outputs": [],
   "source": [
    "pos=nx.spring_layout(G)\n",
    "nx.draw_networkx_nodes(G,\n",
    "                       pos,\n",
    "                       node_size=1000)\n",
    "nx.draw_networkx_labels(G,\n",
    "                        pos,\n",
    "                        labels = {1: \"Bill\",\n",
    "                                  2: \"Ross\",\n",
    "                                  3: \"Martin\",\n",
    "                                  4: \"Jarrett\"\n",
    "                                  }\n",
    "                        )\n",
    "nx.draw_networkx_edges(G, pos)\n",
    "                        \n",
    "plt.axis('off')\n",
    "plt.show()"
   ]
  },
  {
   "cell_type": "markdown",
   "metadata": {
    "slideshow": {
     "slide_type": "slide"
    }
   },
   "source": [
    "## Exercise 1: Build a graph containing at least 10 nodes and show any type of relationships between these nodes"
   ]
  },
  {
   "cell_type": "code",
   "execution_count": null,
   "metadata": {
    "collapsed": true
   },
   "outputs": [],
   "source": []
  },
  {
   "cell_type": "code",
   "execution_count": null,
   "metadata": {
    "collapsed": true
   },
   "outputs": [],
   "source": []
  },
  {
   "cell_type": "code",
   "execution_count": null,
   "metadata": {
    "collapsed": true
   },
   "outputs": [],
   "source": []
  },
  {
   "cell_type": "code",
   "execution_count": null,
   "metadata": {
    "collapsed": true
   },
   "outputs": [],
   "source": []
  },
  {
   "cell_type": "code",
   "execution_count": null,
   "metadata": {
    "collapsed": true
   },
   "outputs": [],
   "source": []
  },
  {
   "cell_type": "code",
   "execution_count": null,
   "metadata": {
    "collapsed": true
   },
   "outputs": [],
   "source": []
  },
  {
   "cell_type": "code",
   "execution_count": null,
   "metadata": {
    "collapsed": true
   },
   "outputs": [],
   "source": []
  },
  {
   "cell_type": "code",
   "execution_count": null,
   "metadata": {
    "collapsed": true
   },
   "outputs": [],
   "source": []
  },
  {
   "cell_type": "markdown",
   "metadata": {
    "slideshow": {
     "slide_type": "slide"
    }
   },
   "source": [
    "## Read in Pandas DataFrame\n",
    "\n",
    "\n",
    "~~~python\n",
    "G = nx.from_pandas_dataframe(df, source, target, edge_attr=None, create_using=None)\n",
    "~~~"
   ]
  },
  {
   "cell_type": "markdown",
   "metadata": {
    "slideshow": {
     "slide_type": "fragment"
    }
   },
   "source": [
    "* **df (Pandas DataFrame)** – An edge list representation of a graph\n",
    "* **source (str or int)** – A valid column name (string or integer) for the source nodes (for the directed case).\n",
    "* **target (str or int)** – A valid column name (string or integer) for the target nodes (for the directed case).\n",
    "* **edge_attr (str or int, iterable, True)** – A valid column name (str or integer) or list of column names that will be used to retrieve items from the row and add them to the graph as edge attributes. If True, all of the remaining columns will be added.\n",
    "* **create_using (NetworkX graph)** – Use specified graph for result. The default is Graph()\n"
   ]
  },
  {
   "cell_type": "code",
   "execution_count": null,
   "metadata": {
    "slideshow": {
     "slide_type": "skip"
    }
   },
   "outputs": [],
   "source": [
    "import pandas as pd\n",
    "tmc = pd.read_csv(\"data/tm_chats.csv\")"
   ]
  },
  {
   "cell_type": "code",
   "execution_count": null,
   "metadata": {
    "slideshow": {
     "slide_type": "slide"
    }
   },
   "outputs": [],
   "source": [
    "tmc.tail()"
   ]
  },
  {
   "cell_type": "code",
   "execution_count": null,
   "metadata": {
    "slideshow": {
     "slide_type": "fragment"
    }
   },
   "outputs": [],
   "source": [
    "tm_graph = nx.from_pandas_dataframe(tmc,\n",
    "                                    'Source',\n",
    "                                    'Sink')\n",
    "pos=nx.spring_layout(tm_graph)\n",
    "nx.draw(tm_graph,\n",
    "        pos,\n",
    "        with_labels=True, \n",
    "        node_size=2000\n",
    "       )\n",
    "\n",
    "plt.show()"
   ]
  },
  {
   "cell_type": "markdown",
   "metadata": {
    "slideshow": {
     "slide_type": "slide"
    }
   },
   "source": [
    "### To and From Other Data Formats\n",
    "\n",
    "* from a known data structure\n",
    "    * to_networkx_graph\n",
    "\n",
    "* to/from lists\n",
    "    * to_dict_of_lists\n",
    "    * from_dict_of_lists\n",
    "    * to_edgelist\n",
    "    * from_edgelist\n",
    "\n",
    "* to/from dictionaries\n",
    "    * to_dict_of_dicts\n",
    "    * from_dict_of_dicts\n",
    "\n",
    "* to/from pandas\n",
    "    * to_pandas_dataframe\n",
    "    * from_pandas_dataframe\n",
    "\n"
   ]
  },
  {
   "cell_type": "markdown",
   "metadata": {
    "slideshow": {
     "slide_type": "slide"
    }
   },
   "source": [
    "## Algorithms\n",
    "\n",
    "A number of graph algorithms are provided with NetworkX.\n",
    "\n",
    "For this course, we're interested in algorithims for:\n",
    "\n",
    "* Characterizing the Graph\n",
    "* Identifying \"paths\" in the network\n",
    "* Measuring Node Centrality\n",
    "\n",
    "\n",
    "\n",
    "https://networkx.github.io/documentation/networkx-1.10/reference/algorithms.html\n",
    "\n"
   ]
  },
  {
   "cell_type": "markdown",
   "metadata": {},
   "source": [
    "### Are there any islands in this graph? Or is every node connected?"
   ]
  },
  {
   "cell_type": "code",
   "execution_count": null,
   "metadata": {
    "slideshow": {
     "slide_type": "fragment"
    }
   },
   "outputs": [],
   "source": [
    "nx.is_connected(tm_graph)"
   ]
  },
  {
   "cell_type": "markdown",
   "metadata": {},
   "source": [
    "### Add a new node with no edges to create an island"
   ]
  },
  {
   "cell_type": "code",
   "execution_count": null,
   "metadata": {
    "collapsed": true
   },
   "outputs": [],
   "source": [
    "tm_graph.add_node(\"Sandy\")"
   ]
  },
  {
   "cell_type": "code",
   "execution_count": null,
   "metadata": {},
   "outputs": [],
   "source": [
    "pos=nx.spring_layout(tm_graph)\n",
    "nx.draw(tm_graph,\n",
    "        pos,\n",
    "        with_labels=True, \n",
    "        node_size=2000\n",
    "       )\n",
    "\n",
    "plt.show()"
   ]
  },
  {
   "cell_type": "code",
   "execution_count": null,
   "metadata": {
    "slideshow": {
     "slide_type": "fragment"
    }
   },
   "outputs": [],
   "source": [
    "nx.is_connected(tm_graph)"
   ]
  },
  {
   "cell_type": "code",
   "execution_count": null,
   "metadata": {
    "collapsed": true,
    "slideshow": {
     "slide_type": "skip"
    }
   },
   "outputs": [],
   "source": [
    "tm_graph.remove_node(\"Sandy\")"
   ]
  },
  {
   "cell_type": "markdown",
   "metadata": {
    "slideshow": {
     "slide_type": "slide"
    }
   },
   "source": [
    "# Finding Paths in your Network"
   ]
  },
  {
   "cell_type": "code",
   "execution_count": null,
   "metadata": {
    "slideshow": {
     "slide_type": "fragment"
    }
   },
   "outputs": [],
   "source": [
    "nx.draw(tm_graph,\n",
    "        pos,\n",
    "        with_labels=True, \n",
    "        node_size=1000\n",
    "       )\n",
    "\n",
    "plt.show()"
   ]
  },
  {
   "cell_type": "markdown",
   "metadata": {},
   "source": [
    "### What is the average number of hops between every node in the network?"
   ]
  },
  {
   "cell_type": "code",
   "execution_count": null,
   "metadata": {
    "slideshow": {
     "slide_type": "fragment"
    }
   },
   "outputs": [],
   "source": [
    "nx.average_shortest_path_length(tm_graph)"
   ]
  },
  {
   "cell_type": "markdown",
   "metadata": {},
   "source": [
    "### What hops comprise the shortest path between any two nodes?"
   ]
  },
  {
   "cell_type": "code",
   "execution_count": null,
   "metadata": {
    "slideshow": {
     "slide_type": "fragment"
    }
   },
   "outputs": [],
   "source": [
    "nx.shortest_path(tm_graph, \"Curt\", \"John\")"
   ]
  },
  {
   "cell_type": "code",
   "execution_count": null,
   "metadata": {
    "slideshow": {
     "slide_type": "fragment"
    }
   },
   "outputs": [],
   "source": [
    "for path in nx.all_shortest_paths(tm_graph,\"Peder\",\"Tyler\"):\n",
    "    print(path)"
   ]
  },
  {
   "cell_type": "markdown",
   "metadata": {
    "slideshow": {
     "slide_type": "slide"
    }
   },
   "source": [
    "# Measuring Centrality Four Different Ways"
   ]
  },
  {
   "cell_type": "markdown",
   "metadata": {
    "slideshow": {
     "slide_type": "fragment"
    }
   },
   "source": [
    "<img src=\"images/4_centrality_measures.png\">"
   ]
  },
  {
   "cell_type": "markdown",
   "metadata": {
    "slideshow": {
     "slide_type": "slide"
    }
   },
   "source": [
    "# Closeness Centrality\n",
    "\n",
    "<img src=\"images/closeness.png\", width=\"350px\">\n",
    "\n",
    "## (Average of all shortest paths per node.)"
   ]
  },
  {
   "cell_type": "code",
   "execution_count": null,
   "metadata": {
    "slideshow": {
     "slide_type": "slide"
    }
   },
   "outputs": [],
   "source": [
    "nx.draw(tm_graph,\n",
    "        pos,\n",
    "        with_labels=True, \n",
    "        node_size=1000\n",
    "       )"
   ]
  },
  {
   "cell_type": "code",
   "execution_count": null,
   "metadata": {
    "slideshow": {
     "slide_type": "fragment"
    }
   },
   "outputs": [],
   "source": [
    "cc = nx.closeness_centrality(tm_graph)\n",
    "cc"
   ]
  },
  {
   "cell_type": "code",
   "execution_count": null,
   "metadata": {},
   "outputs": [],
   "source": [
    "max(cc, key=cc.get)"
   ]
  },
  {
   "cell_type": "markdown",
   "metadata": {
    "slideshow": {
     "slide_type": "slide"
    }
   },
   "source": [
    "# Betweeness Centrality \n",
    "\n",
    "<img src=\"images/betweeness.png\", width=\"350\">\n",
    "\n",
    "\n",
    "\n",
    "## (Number of shortest paths from all vertices to all others that pass through that node)"
   ]
  },
  {
   "cell_type": "code",
   "execution_count": null,
   "metadata": {
    "slideshow": {
     "slide_type": "slide"
    }
   },
   "outputs": [],
   "source": [
    "nx.draw(tm_graph,\n",
    "        pos,\n",
    "        with_labels=True, \n",
    "        node_size=1000\n",
    "       )"
   ]
  },
  {
   "cell_type": "code",
   "execution_count": null,
   "metadata": {
    "slideshow": {
     "slide_type": "fragment"
    }
   },
   "outputs": [],
   "source": [
    "nx.betweenness_centrality(tm_graph)"
   ]
  },
  {
   "cell_type": "markdown",
   "metadata": {
    "slideshow": {
     "slide_type": "slide"
    }
   },
   "source": [
    "# Eigenvector Centrality\n",
    "<img src=\"images/eigenvector.png\", width=\"350px\">\n",
    "\n",
    "Similar to Google Page Rank."
   ]
  },
  {
   "cell_type": "code",
   "execution_count": null,
   "metadata": {
    "slideshow": {
     "slide_type": "slide"
    }
   },
   "outputs": [],
   "source": [
    "nx.draw(tm_graph,\n",
    "        pos,\n",
    "        with_labels=True, \n",
    "        node_size=1000\n",
    "       )"
   ]
  },
  {
   "cell_type": "code",
   "execution_count": null,
   "metadata": {
    "slideshow": {
     "slide_type": "fragment"
    }
   },
   "outputs": [],
   "source": [
    "nx.eigenvector_centrality(tm_graph)"
   ]
  },
  {
   "cell_type": "markdown",
   "metadata": {
    "slideshow": {
     "slide_type": "slide"
    }
   },
   "source": [
    "# Degree Centrality\n",
    "<img src=\"images/degree.png\", width=\"350px\">\n",
    "\n",
    "Number of Neighbors"
   ]
  },
  {
   "cell_type": "code",
   "execution_count": null,
   "metadata": {
    "slideshow": {
     "slide_type": "slide"
    }
   },
   "outputs": [],
   "source": [
    "nx.draw(tm_graph,\n",
    "        pos,\n",
    "        with_labels=True, \n",
    "        node_size=1000\n",
    "       )"
   ]
  },
  {
   "cell_type": "code",
   "execution_count": null,
   "metadata": {
    "slideshow": {
     "slide_type": "fragment"
    }
   },
   "outputs": [],
   "source": [
    "nx.degree_centrality(tm_graph)"
   ]
  },
  {
   "cell_type": "markdown",
   "metadata": {
    "slideshow": {
     "slide_type": "slide"
    }
   },
   "source": [
    "# Exercise 2:\n",
    "\n",
    "Given the two files:\n",
    "* phone_book.csv (a listing of first names and associated phone numbers)\n",
    "* cdrs.csv (a simulated Call Data Records File)\n",
    "\n",
    "\n",
    "Create a Social Network Graph based on these files.  \n",
    "* How many nodes are there?\n",
    "* How many edges?\n",
    "\n",
    "Calculate the nodes with the highest:\n",
    "* degree centrality\n",
    "* eigenvector centrality\n",
    "* betweeness centrality\n",
    "* closeness centrality\n",
    "\n",
    "Which two nodes are furthest apart?"
   ]
  },
  {
   "cell_type": "code",
   "execution_count": null,
   "metadata": {
    "collapsed": true
   },
   "outputs": [],
   "source": []
  }
 ],
 "metadata": {
  "celltoolbar": "Raw Cell Format",
  "kernelspec": {
   "display_name": "Python 3",
   "language": "python",
   "name": "python3"
  },
  "language_info": {
   "codemirror_mode": {
    "name": "ipython",
    "version": 3
   },
   "file_extension": ".py",
   "mimetype": "text/x-python",
   "name": "python",
   "nbconvert_exporter": "python",
   "pygments_lexer": "ipython3",
   "version": "3.5.1"
  }
 },
 "nbformat": 4,
 "nbformat_minor": 1
}
